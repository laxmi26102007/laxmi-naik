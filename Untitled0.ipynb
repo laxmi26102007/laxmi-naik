{
  "nbformat": 4,
  "nbformat_minor": 0,
  "metadata": {
    "colab": {
      "private_outputs": true,
      "provenance": [],
      "authorship_tag": "ABX9TyOev1cs0d2hr1urfp971r4v",
      "include_colab_link": true
    },
    "kernelspec": {
      "name": "python3",
      "display_name": "Python 3"
    },
    "language_info": {
      "name": "python"
    }
  },
  "cells": [
    {
      "cell_type": "markdown",
      "metadata": {
        "id": "view-in-github",
        "colab_type": "text"
      },
      "source": [
        "<a href=\"https://colab.research.google.com/github/laxmi26102007/laxmi-naik/blob/main/Untitled0.ipynb\" target=\"_parent\"><img src=\"https://colab.research.google.com/assets/colab-badge.svg\" alt=\"Open In Colab\"/></a>"
      ]
    },
    {
      "cell_type": "code",
      "execution_count": null,
      "metadata": {
        "id": "9aB-sxv1Eg86"
      },
      "outputs": [],
      "source": [
        "import pandas as pd\n",
        "import matplotlib.pyplot as plt\n",
        "df=pd.read_csv('/content/mtcars.csv')\n",
        "print(df.info())\n",
        "print(df.head())\n",
        "print(df.tail())"
      ]
    },
    {
      "cell_type": "code",
      "source": [
        "\n",
        "auto_count = (df['am'] == 0).sum()\n",
        "manual_count = (df['am'] == 1).sum()\n",
        "labels = ['Automatic', 'Manual']\n",
        "counts = [auto_count, manual_count]\n",
        "\n",
        "plt.bar(labels, counts, color=['blue', 'pink'])\n",
        "\n",
        "plt.title(\"Frequency of Transmission Types\")\n",
        "plt.xlabel(\"Transmission Type\")\n",
        "plt.ylabel(\"Number of Cars\")\n",
        "plt.show()"
      ],
      "metadata": {
        "id": "TzbeNPQfN2me"
      },
      "execution_count": null,
      "outputs": []
    },
    {
      "cell_type": "code",
      "source": [
        "import pandas as pd\n",
        "import matplotlib.pyplot as plt\n",
        "plt.scatter(df['wt'],df['mpg'],color='pink')\n",
        "plt.title('Scatter Plot')\n",
        "plt.xlabel('Weight')\n",
        "plt.ylabel('MPG')\n",
        "plt.show()\n"
      ],
      "metadata": {
        "id": "jx2dcCJ8IKHU"
      },
      "execution_count": null,
      "outputs": []
    },
    {
      "cell_type": "code",
      "source": [
        "import pandas as pd\n",
        "import matplotlib.pyplot as plt\n",
        "plt.hist(df['mpg'],color='blue',edgecolor='black')\n",
        "plt.title('Histogram')\n",
        "plt.xlabel('MPG')\n",
        "plt.ylabel('Frequency')\n",
        "plt.show()"
      ],
      "metadata": {
        "id": "fbANwtvkIs6b"
      },
      "execution_count": null,
      "outputs": []
    },
    {
      "cell_type": "code",
      "source": [
        "import pandas as pd\n",
        "import matplotlib.pyplot as plt\n",
        "\n",
        "cylinders=sorted(df['cyl'].unique())\n",
        "data=[df[df['cyl']==cyl]['mpg'] for cyl in cylinders]\n",
        "plt.boxplot(data,labels=cylinders)\n",
        "plt.title('Box Plot')\n",
        "plt.xlabel('Cylinders')\n",
        "plt.ylabel('MPG')\n",
        "plt.show()\n"
      ],
      "metadata": {
        "id": "JYvE303LJxtS"
      },
      "execution_count": null,
      "outputs": []
    }
  ]
}